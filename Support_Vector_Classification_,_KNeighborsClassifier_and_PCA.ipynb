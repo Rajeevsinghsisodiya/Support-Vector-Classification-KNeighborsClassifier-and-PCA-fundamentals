{
  "nbformat": 4,
  "nbformat_minor": 0,
  "metadata": {
    "colab": {
      "provenance": []
    },
    "kernelspec": {
      "name": "python3",
      "display_name": "Python 3"
    },
    "language_info": {
      "name": "python"
    }
  },
  "cells": [
    {
      "cell_type": "markdown",
      "source": [
        "# Project name: Support Vector Classification , KNeighborsClassifier and PCA fundamentals\n",
        "\n",
        "Contributor: Rajeev singh sisodiya\n",
        "\n",
        "Project overview: Its good for beginers if they learn from the basics of data science.Purpose of this python project notebook is just learning and practice ML classification techniques like Support Vector Machine, K-Nearest Neighbour Classifier and PCA fundamentals. I tried to make it very easy for everyone who want to learn it.\n"
      ],
      "metadata": {
        "id": "HVQOKsbIe9sO"
      }
    },
    {
      "cell_type": "markdown",
      "source": [
        "# Support Vector Classification (SVC):\n",
        "\n",
        "SVC is a type of supervised learning algorithm that falls under the broader category of Support Vector Machines (SVM). It is mainly used for classification tasks, where the algorithm tries to find a hyperplane that best separates different classes in the feature space.\n",
        "\n",
        "Objective:\n",
        "\n",
        "The main objective of SVC is to find a hyperplane in a high-dimensional space that best separates instances belonging to different classes.\n",
        "The term \"support vectors\" refers to the data points that are most important in defining the decision boundary.\n",
        "\n",
        "Hyperplane:\n",
        "\n",
        "For binary classification, a hyperplane is a linear decision boundary that separates the data into two classes.\n",
        "In a feature space with two features (2D), the hyperplane is a line. In a space with three features (3D), it becomes a plane, and so on.\n",
        "\n",
        "Margin:\n",
        "\n",
        "The optimal hyperplane is the one that maximizes the margin, which is the distance between the hyperplane and the nearest data points from each class (support vectors).\n",
        "A larger margin often indicates better generalization to unseen data.\n",
        "\n",
        "Kernel Trick:\n",
        "\n",
        "SVC can efficiently handle non-linear decision boundaries by using the \"kernel trick.\" Kernels transform the input features into a higher-dimensional space, allowing the algorithm to find a hyperplane in this new space.\n",
        "Common kernel functions include linear, polynomial, radial basis function (RBF), and sigmoid kernels.\n",
        "\n",
        "C Parameter:\n",
        "\n",
        "The regularization parameter C controls the trade-off between achieving a smooth decision boundary and classifying training points correctly. A smaller C leads to a wider margin but may misclassify some training points, while a larger C results in a narrower margin with fewer misclassifications.\n",
        "\n",
        "Applications:\n",
        "\n",
        "SVC is widely used in text classification, image recognition, bioinformatics, and other fields where effective classification is required.\n",
        "\n",
        "Considerations:\n",
        "\n",
        "Data preprocessing, such as feature scaling, is often important for SVMs. The choice of the kernel and its parameters should be tuned based on the characteristics of the data.\n",
        "\n"
      ],
      "metadata": {
        "id": "11Ik5txzqHm2"
      }
    },
    {
      "cell_type": "code",
      "execution_count": null,
      "metadata": {
        "id": "v2jQNaN7g23a"
      },
      "outputs": [],
      "source": [
        "import numpy as np\n",
        "import pandas as pd\n",
        "import matplotlib.pyplot as plt"
      ]
    },
    {
      "cell_type": "code",
      "source": [
        "ds_train1=pd.read_csv('/content/test.data')"
      ],
      "metadata": {
        "id": "-1D7ZyfJmVmC"
      },
      "execution_count": null,
      "outputs": []
    },
    {
      "cell_type": "code",
      "source": [
        "x_train1=ds_train1.iloc[:,0:-1].values;\n",
        "y_train1=ds_train1.iloc[:,-1].values;\n"
      ],
      "metadata": {
        "id": "ye_iB8CcmiBG"
      },
      "execution_count": null,
      "outputs": []
    },
    {
      "cell_type": "code",
      "source": [
        "from sklearn.svm import SVC;\n",
        "classifier=SVC(kernel='poly',random_state=0);\n",
        "classifier.fit(x_train1,y_train1);\n"
      ],
      "metadata": {
        "id": "q0HB6L0Nmv7b"
      },
      "execution_count": null,
      "outputs": []
    },
    {
      "cell_type": "code",
      "source": [
        "ds_test=pd.read_csv('/content/test.data');\n",
        "x_test=ds_test.iloc[:,0:-1].values;\n",
        "y_test=ds_test.iloc[:,-1].values;\n"
      ],
      "metadata": {
        "id": "FXJfPObxnXjX"
      },
      "execution_count": null,
      "outputs": []
    },
    {
      "cell_type": "code",
      "source": [
        "y_pred=classifier.predict(x_test);"
      ],
      "metadata": {
        "id": "EZk4Eeifn-Il"
      },
      "execution_count": null,
      "outputs": []
    },
    {
      "cell_type": "code",
      "source": [
        "y_pred"
      ],
      "metadata": {
        "colab": {
          "base_uri": "https://localhost:8080/"
        },
        "id": "nLY3Q8mIoYlf",
        "outputId": "966ce7c4-f28b-4a44-ba7d-d345a7685f30"
      },
      "execution_count": null,
      "outputs": [
        {
          "output_type": "execute_result",
          "data": {
            "text/plain": [
              "array([1, 0, 1, 0, 0, 1, 1, 0, 1, 0, 1, 0, 0, 0, 0, 1, 0, 1, 1, 0, 1, 1,\n",
              "       1, 1, 0, 0, 0, 1, 1, 0, 0, 0, 1, 1, 1, 0, 0, 1, 1, 0, 1, 1, 1, 0,\n",
              "       1, 1, 1, 0, 0, 0, 0, 1, 1, 0, 1, 0, 1, 1, 1, 1, 1, 1, 0, 0, 0, 1,\n",
              "       1, 0, 0, 0, 1, 1, 0, 1, 0, 1, 0, 0, 1, 1, 1, 1, 1, 0, 0, 0, 0, 1,\n",
              "       0, 0, 1, 1, 0, 1, 1, 0, 0, 0, 1])"
            ]
          },
          "metadata": {},
          "execution_count": 11
        }
      ]
    },
    {
      "cell_type": "code",
      "source": [
        "from sklearn.metrics import accuracy_score,confusion_matrix;\n",
        "ac=accuracy_score(y_test,y_pred);\n",
        "cm=confusion_matrix(y_test,y_pred);"
      ],
      "metadata": {
        "id": "TPd8mnQcoeXh"
      },
      "execution_count": null,
      "outputs": []
    },
    {
      "cell_type": "code",
      "source": [
        "ac"
      ],
      "metadata": {
        "colab": {
          "base_uri": "https://localhost:8080/"
        },
        "id": "iTaTmE5Bov6h",
        "outputId": "de15e9e3-c082-4172-fcf3-39d05977cd6a"
      },
      "execution_count": null,
      "outputs": [
        {
          "output_type": "execute_result",
          "data": {
            "text/plain": [
              "0.898989898989899"
            ]
          },
          "metadata": {},
          "execution_count": 10
        }
      ]
    },
    {
      "cell_type": "markdown",
      "source": [
        "An accuracy score of 0.898989898989899 is generally considered quite high and suggests that the model is performing well on the given task.\n",
        "\n",
        "High Accuracy:\n",
        "An accuracy of approximately\n",
        "0.90 indicates that the model correctly predicts the target variable in 90% of the cases, which is often considered good performance. However, the interpretation of \"good\" performance can vary based on the specific problem and the consequences of false positives and false negatives.\n",
        "\n",
        "Context Matters: The importance of an accuracy score depends on the context of the problem you are trying to solve. In some cases, a 90% accuracy might be excellent, while in other situations, it might be insufficient."
      ],
      "metadata": {
        "id": "F9shx6YrPnIM"
      }
    },
    {
      "cell_type": "code",
      "source": [
        "cm"
      ],
      "metadata": {
        "colab": {
          "base_uri": "https://localhost:8080/"
        },
        "id": "OuoRE3fAozQJ",
        "outputId": "2ffaad78-7cda-4cfc-c221-e3a8cbc32b96"
      },
      "execution_count": null,
      "outputs": [
        {
          "output_type": "execute_result",
          "data": {
            "text/plain": [
              "array([[44,  1],\n",
              "       [ 3, 51]])"
            ]
          },
          "metadata": {},
          "execution_count": 13
        }
      ]
    },
    {
      "cell_type": "markdown",
      "source": [
        "# Data visualization by scatter plotting"
      ],
      "metadata": {
        "id": "E8onama-Upup"
      }
    },
    {
      "cell_type": "code",
      "source": [
        "plt.scatter(x_test[y_pred==0,0],x_test[y_pred==0,1],color='red');\n",
        "plt.scatter(x_test[y_pred==1,0],x_test[y_pred==1,1],color='blue');\n",
        "plt.scatter(x_test[y_pred!=y_test,0],x_test[y_pred!=y_test,1],s=8,color='white');\n",
        "plt.show();"
      ],
      "metadata": {
        "colab": {
          "base_uri": "https://localhost:8080/",
          "height": 232
        },
        "id": "LpMNbIodo6bx",
        "outputId": "b9560329-4db2-493a-c47b-bc8baf5f9721"
      },
      "execution_count": null,
      "outputs": [
        {
          "output_type": "error",
          "ename": "NameError",
          "evalue": "ignored",
          "traceback": [
            "\u001b[0;31m---------------------------------------------------------------------------\u001b[0m",
            "\u001b[0;31mNameError\u001b[0m                                 Traceback (most recent call last)",
            "\u001b[0;32m<ipython-input-1-dac9fc800650>\u001b[0m in \u001b[0;36m<cell line: 1>\u001b[0;34m()\u001b[0m\n\u001b[0;32m----> 1\u001b[0;31m \u001b[0mplt\u001b[0m\u001b[0;34m.\u001b[0m\u001b[0mscatter\u001b[0m\u001b[0;34m(\u001b[0m\u001b[0mx_test\u001b[0m\u001b[0;34m[\u001b[0m\u001b[0my_pred\u001b[0m\u001b[0;34m==\u001b[0m\u001b[0;36m0\u001b[0m\u001b[0;34m,\u001b[0m\u001b[0;36m0\u001b[0m\u001b[0;34m]\u001b[0m\u001b[0;34m,\u001b[0m\u001b[0mx_test\u001b[0m\u001b[0;34m[\u001b[0m\u001b[0my_pred\u001b[0m\u001b[0;34m==\u001b[0m\u001b[0;36m0\u001b[0m\u001b[0;34m,\u001b[0m\u001b[0;36m1\u001b[0m\u001b[0;34m]\u001b[0m\u001b[0;34m,\u001b[0m\u001b[0mcolor\u001b[0m\u001b[0;34m=\u001b[0m\u001b[0;34m'red'\u001b[0m\u001b[0;34m)\u001b[0m\u001b[0;34m;\u001b[0m\u001b[0;34m\u001b[0m\u001b[0;34m\u001b[0m\u001b[0m\n\u001b[0m\u001b[1;32m      2\u001b[0m \u001b[0mplt\u001b[0m\u001b[0;34m.\u001b[0m\u001b[0mscatter\u001b[0m\u001b[0;34m(\u001b[0m\u001b[0mx_test\u001b[0m\u001b[0;34m[\u001b[0m\u001b[0my_pred\u001b[0m\u001b[0;34m==\u001b[0m\u001b[0;36m1\u001b[0m\u001b[0;34m,\u001b[0m\u001b[0;36m0\u001b[0m\u001b[0;34m]\u001b[0m\u001b[0;34m,\u001b[0m\u001b[0mx_test\u001b[0m\u001b[0;34m[\u001b[0m\u001b[0my_pred\u001b[0m\u001b[0;34m==\u001b[0m\u001b[0;36m1\u001b[0m\u001b[0;34m,\u001b[0m\u001b[0;36m1\u001b[0m\u001b[0;34m]\u001b[0m\u001b[0;34m,\u001b[0m\u001b[0mcolor\u001b[0m\u001b[0;34m=\u001b[0m\u001b[0;34m'blue'\u001b[0m\u001b[0;34m)\u001b[0m\u001b[0;34m;\u001b[0m\u001b[0;34m\u001b[0m\u001b[0;34m\u001b[0m\u001b[0m\n\u001b[1;32m      3\u001b[0m \u001b[0mplt\u001b[0m\u001b[0;34m.\u001b[0m\u001b[0mscatter\u001b[0m\u001b[0;34m(\u001b[0m\u001b[0mx_test\u001b[0m\u001b[0;34m[\u001b[0m\u001b[0my_pred\u001b[0m\u001b[0;34m!=\u001b[0m\u001b[0my_test\u001b[0m\u001b[0;34m,\u001b[0m\u001b[0;36m0\u001b[0m\u001b[0;34m]\u001b[0m\u001b[0;34m,\u001b[0m\u001b[0mx_test\u001b[0m\u001b[0;34m[\u001b[0m\u001b[0my_pred\u001b[0m\u001b[0;34m!=\u001b[0m\u001b[0my_test\u001b[0m\u001b[0;34m,\u001b[0m\u001b[0;36m1\u001b[0m\u001b[0;34m]\u001b[0m\u001b[0;34m,\u001b[0m\u001b[0ms\u001b[0m\u001b[0;34m=\u001b[0m\u001b[0;36m8\u001b[0m\u001b[0;34m,\u001b[0m\u001b[0mcolor\u001b[0m\u001b[0;34m=\u001b[0m\u001b[0;34m'white'\u001b[0m\u001b[0;34m)\u001b[0m\u001b[0;34m;\u001b[0m\u001b[0;34m\u001b[0m\u001b[0;34m\u001b[0m\u001b[0m\n\u001b[1;32m      4\u001b[0m \u001b[0mplt\u001b[0m\u001b[0;34m.\u001b[0m\u001b[0mshow\u001b[0m\u001b[0;34m(\u001b[0m\u001b[0;34m)\u001b[0m\u001b[0;34m;\u001b[0m\u001b[0;34m\u001b[0m\u001b[0;34m\u001b[0m\u001b[0m\n",
            "\u001b[0;31mNameError\u001b[0m: name 'plt' is not defined"
          ]
        }
      ]
    },
    {
      "cell_type": "markdown",
      "source": [
        "# KNeighborsClassifier\n",
        "The k-Nearest Neighbors (k-NN) algorithm is a type of instance-based learning or lazy learning, where the model makes predictions based on the majority class of k-nearest neighbors in the feature space. The KNeighborsClassifier is a specific implementation of the k-NN algorithm in scikit-learn, a popular machine learning library in Python.\n",
        "\n",
        "Algorithm Overview:\n",
        "\n",
        "Instance-Based Learning: k-NN is a type of instance-based learning, meaning it doesn't explicitly learn a model during training. Instead, it memorizes the training instances and makes predictions based on their similarity to new instances.\n",
        "Decision Rule: For classification, the algorithm counts the class labels of the k-nearest neighbors and assigns the class label that occurs most frequently.\n",
        "Parameters:\n",
        "\n",
        "n_neighbors: The number of neighbors to consider when making predictions. This is a crucial parameter, and its value can impact the model's performance. A small n_neighbors value can make the model sensitive to noise, while a large value can make it too biased.\n",
        "\n",
        "Distance Metric: The choice of distance metric (p parameter) can significantly affect the algorithm's performance. Common choices include Euclidean distance (p=2) and Manhattan distance (p=1).\n",
        "\n",
        "Weights: The weights parameter determines how the neighbors' contributions are weighted. Options include uniform weights (each neighbor has equal influence) and distance weights (closer neighbors have more influence).\n",
        "\n",
        "Applications:\n",
        "\n",
        "k-NN is often used in classification tasks, such as text categorization, image recognition, and pattern recognition.\n",
        "It can also be used for regression tasks by averaging the values of k-nearest neighbors.\n",
        "\n",
        "Considerations:\n",
        "\n",
        "It's important to preprocess data and standardize features because k-NN is sensitive to the scale of variables.\n",
        "The optimal choice of k and distance metric may vary depending on the dataset, and hyperparameter tuning is often necessary."
      ],
      "metadata": {
        "id": "cVYWhxhpa7WO"
      }
    },
    {
      "cell_type": "code",
      "source": [
        "#task2\n",
        "ds_train2=pd.read_csv('/content/train2.data');\n",
        "x_train2=ds_train2.iloc[:,0:-1].values;\n",
        "y_train2=ds_train2.iloc[:,-1].values;"
      ],
      "metadata": {
        "id": "jfp2q_-mRS22"
      },
      "execution_count": null,
      "outputs": []
    },
    {
      "cell_type": "code",
      "source": [
        "from sklearn.neighbors import KNeighborsClassifier;\n",
        "classifier=KNeighborsClassifier(n_neighbors=5);\n",
        "classifier.fit(x_train2,y_train2);"
      ],
      "metadata": {
        "id": "QlgG6Fw0SG6Z"
      },
      "execution_count": null,
      "outputs": []
    },
    {
      "cell_type": "code",
      "source": [
        "y_pred2=classifier.predict(x_test);\n",
        "y_pred2"
      ],
      "metadata": {
        "colab": {
          "base_uri": "https://localhost:8080/"
        },
        "id": "Snt0R52CSMWr",
        "outputId": "2e1d71b7-a000-47e1-9d02-68f15c5db74f"
      },
      "execution_count": null,
      "outputs": [
        {
          "output_type": "execute_result",
          "data": {
            "text/plain": [
              "array([1, 0, 1, 0, 0, 1, 1, 0, 1, 0, 1, 0, 0, 0, 0, 1, 0, 1, 1, 0, 1, 1,\n",
              "       1, 1, 0, 0, 0, 1, 1, 0, 0, 0, 1, 1, 1, 0, 0, 1, 1, 0, 1, 1, 1, 0,\n",
              "       1, 1, 1, 0, 0, 0, 0, 1, 1, 0, 1, 0, 1, 1, 1, 1, 1, 1, 0, 0, 0, 1,\n",
              "       1, 0, 0, 0, 1, 1, 0, 1, 0, 1, 0, 0, 1, 1, 1, 1, 1, 0, 0, 0, 0, 1,\n",
              "       0, 0, 1, 1, 0, 1, 1, 0, 0, 0, 1])"
            ]
          },
          "metadata": {},
          "execution_count": 17
        }
      ]
    },
    {
      "cell_type": "code",
      "source": [
        "from sklearn.metrics import accuracy_score,confusion_matrix;\n",
        "ac=accuracy_score(y_test,y_pred);\n",
        "cm=confusion_matrix(y_test,y_pred);\n",
        "ac"
      ],
      "metadata": {
        "colab": {
          "base_uri": "https://localhost:8080/"
        },
        "id": "kLBMVRcLShfd",
        "outputId": "5ca7f8d3-01e7-4e67-e254-a82ab9d008d4"
      },
      "execution_count": null,
      "outputs": [
        {
          "output_type": "execute_result",
          "data": {
            "text/plain": [
              "0.9595959595959596"
            ]
          },
          "metadata": {},
          "execution_count": 18
        }
      ]
    },
    {
      "cell_type": "markdown",
      "source": [
        "An accuracy score of approximately\n",
        "0.96 (or 96%) is considered very high and generally indicates excellent performance of a model on the given task. Here are some insights and considerations related to an accuracy score of 0.9595959595959596 :\n",
        "\n",
        "High Accuracy:\n",
        "An accuracy of 0.96 means that the model correctly predicts the target variable in 96% of the cases. This is typically considered excellent performance and suggests that the model is making accurate predictions for the majority of instances.\n",
        "\n",
        "Reliable Predictions:\n",
        "A high accuracy score indicates that the model is reliable and effective in making correct predictions. This is particularly important in scenarios where precision and correctness are crucial, such as in medical diagnoses or critical decision-making processes.\n",
        "\n",
        "Imbalanced Classes:\n",
        "If your dataset has imbalanced class distribution, where one class is much more prevalent than the others, it's beneficial to check other metrics like precision, recall, or F1-score. These metrics provide a more detailed understanding of the model's performance, especially in handling minority classes.\n",
        "\n"
      ],
      "metadata": {
        "id": "D6u-9ON6TaqT"
      }
    },
    {
      "cell_type": "code",
      "source": [
        "cm"
      ],
      "metadata": {
        "colab": {
          "base_uri": "https://localhost:8080/"
        },
        "id": "L0W0JSjmT_FB",
        "outputId": "4ffde6ea-1f83-430e-e0a7-7858660f65e0"
      },
      "execution_count": null,
      "outputs": [
        {
          "output_type": "execute_result",
          "data": {
            "text/plain": [
              "array([[44,  1],\n",
              "       [ 3, 51]])"
            ]
          },
          "metadata": {},
          "execution_count": 19
        }
      ]
    },
    {
      "cell_type": "markdown",
      "source": [
        "# Data visualization by scatter plotting"
      ],
      "metadata": {
        "id": "gKy0FjY8UVmY"
      }
    },
    {
      "cell_type": "code",
      "source": [
        "plt.scatter(x_test[y_pred==0,0],x_test[y_pred==0,1],color='red');\n",
        "plt.scatter(x_test[y_pred==1,0],x_test[y_pred==1,1],color='blue');\n",
        "plt.scatter(x_test[y_pred!=y_test,0],x_test[y_pred!=y_test,1],s=8,color='white');\n",
        "plt.show();"
      ],
      "metadata": {
        "colab": {
          "base_uri": "https://localhost:8080/",
          "height": 432
        },
        "id": "xfhfApfJUQzJ",
        "outputId": "8259cf40-152a-4c2d-a4da-1eb1d617fb8a"
      },
      "execution_count": null,
      "outputs": [
        {
          "output_type": "display_data",
          "data": {
            "text/plain": [
              "<Figure size 640x480 with 1 Axes>"
            ],
            "image/png": "[encoded data removed]"
          },
          "metadata": {}
        }
      ]
    },
    {
      "cell_type": "code",
      "source": [
        "#task3\n",
        "ds_train3=pd.read_csv('/content/train3.data');\n",
        "x_train3=ds_train3.iloc[:,0:-1].values;\n",
        "y_train3=ds_train3.iloc[:,-1].values;"
      ],
      "metadata": {
        "id": "8UTWpAU5U6FI"
      },
      "execution_count": null,
      "outputs": []
    },
    {
      "cell_type": "code",
      "source": [
        "ds_combine=np.concatenate( (x_train3,x_test),0 );\n",
        "ds_combine"
      ],
      "metadata": {
        "colab": {
          "base_uri": "https://localhost:8080/"
        },
        "id": "Gpe_-dLOWh1E",
        "outputId": "7552b878-d9b3-4643-ded8-2a4677445393"
      },
      "execution_count": null,
      "outputs": [
        {
          "output_type": "execute_result",
          "data": {
            "text/plain": [
              "array([[-0.53772  , -0.15301  ],\n",
              "       [ 0.21369  ,  0.031024 ],\n",
              "       [-0.028035 , -0.3321   ],\n",
              "       [ 0.7826   , -0.13419  ],\n",
              "       [ 0.52419  , -0.5481   ],\n",
              "       [-0.087065 ,  0.15961  ],\n",
              "       [-0.96299  ,  0.52073  ],\n",
              "       [ 0.64281  ,  0.059646 ],\n",
              "       [-0.11059  ,  0.28105  ],\n",
              "       [ 0.23086  , -0.58186  ],\n",
              "       [ 0.58387  , -0.24036  ],\n",
              "       [ 0.84363  ,  0.56666  ],\n",
              "       [ 0.47641  ,  0.36169  ],\n",
              "       [-0.64747  , -0.07781  ],\n",
              "       [-0.18859  ,  0.13566  ],\n",
              "       [ 0.87094  ,  0.58842  ],\n",
              "       [ 0.83381  , -0.88163  ],\n",
              "       [-0.17946  ,  0.20574  ],\n",
              "       [ 0.7873   , -0.89946  ],\n",
              "       [-0.88422  , -0.16925  ],\n",
              "       [-0.29426  , -0.39     ],\n",
              "       [ 0.62633  ,  0.74873  ],\n",
              "       [-0.98028  , -0.96998  ],\n",
              "       [-0.72222  ,  0.5359   ],\n",
              "       [-0.59447  ,  0.94169  ],\n",
              "       [-0.60256  ,  0.98017  ],\n",
              "       [ 0.20758  ,  0.57772  ],\n",
              "       [-0.45562  , -0.12268  ],\n",
              "       [-0.60237  , -0.0033774],\n",
              "       [-0.96945  , -0.57207  ],\n",
              "       [ 0.49357  ,  0.28698  ],\n",
              "       [-0.10981  , -0.35993  ],\n",
              "       [ 0.86363  ,  0.9202   ],\n",
              "       [-0.068011 ,  0.45326  ],\n",
              "       [-0.1627   , -0.17609  ],\n",
              "       [ 0.69244  ,  0.48913  ],\n",
              "       [ 0.050305 , -0.46411  ],\n",
              "       [-0.59471  , -0.12015  ],\n",
              "       [ 0.34427  ,  0.86676  ],\n",
              "       [ 0.67624  ,  0.36666  ],\n",
              "       [-0.96072  , -0.57488  ],\n",
              "       [ 0.36255  ,  0.67848  ],\n",
              "       [-0.24104  ,  0.25757  ],\n",
              "       [ 0.66359  , -0.73245  ],\n",
              "       [ 0.0056258, -0.58573  ],\n",
              "       [ 0.41894  ,  0.2144   ],\n",
              "       [-0.14222  ,  0.25978  ],\n",
              "       [-0.39077  , -0.25905  ],\n",
              "       [-0.62069  ,  0.1503   ],\n",
              "       [-0.61314  , -0.09715  ],\n",
              "       [ 0.36445  , -0.91221  ],\n",
              "       [-0.39447  , -0.94563  ],\n",
              "       [ 0.083348 , -0.37463  ],\n",
              "       [-0.69825  , -0.97427  ],\n",
              "       [ 0.3958   , -0.23207  ],\n",
              "       [-0.24325  ,  0.36623  ],\n",
              "       [ 0.72002  , -0.81432  ],\n",
              "       [ 0.70731  , -0.92932  ],\n",
              "       [ 0.18713  ,  0.22479  ],\n",
              "       [-0.0068951,  0.21708  ],\n",
              "       [ 0.79954  , -0.96848  ],\n",
              "       [ 0.64326  , -0.96729  ],\n",
              "       [ 0.28982  , -0.61985  ],\n",
              "       [ 0.63595  ,  0.17384  ],\n",
              "       [ 0.32046  , -0.88484  ],\n",
              "       [-0.31606  , -0.26486  ],\n",
              "       [-0.42055  ,  0.2629   ],\n",
              "       [-0.31761  ,  0.43527  ],\n",
              "       [ 0.068158 ,  0.38534  ],\n",
              "       [ 0.45423  , -0.83184  ],\n",
              "       [-0.38142  , -0.09129  ],\n",
              "       [ 0.67699  , -0.11634  ],\n",
              "       [ 0.13614  , -0.2935   ],\n",
              "       [-0.25917  , -0.69279  ],\n",
              "       [ 0.40548  ,  0.35129  ],\n",
              "       [ 0.093142 ,  0.39843  ],\n",
              "       [-0.11024  ,  0.45502  ],\n",
              "       [ 0.38913  , -0.043231 ],\n",
              "       [ 0.24262  ,  0.10968  ],\n",
              "       [ 0.58964  , -0.75791  ],\n",
              "       [ 0.91369  , -0.098492 ],\n",
              "       [ 0.045181 ,  0.43177  ],\n",
              "       [ 0.76028  ,  0.78568  ],\n",
              "       [-0.65409  , -0.4538   ],\n",
              "       [ 0.95949  , -0.49046  ],\n",
              "       [-0.45711  ,  0.73121  ],\n",
              "       [-0.49534  , -0.5353   ],\n",
              "       [ 0.75148  ,  0.60974  ],\n",
              "       [ 0.47461  ,  0.8168   ],\n",
              "       [-0.72696  , -0.53621  ],\n",
              "       [-0.97649  , -0.52137  ],\n",
              "       [ 0.7878   , -0.90049  ],\n",
              "       [-0.60172  , -0.84323  ],\n",
              "       [-0.40255  ,  0.28163  ],\n",
              "       [ 0.32289  , -0.61823  ],\n",
              "       [-0.43118  ,  0.68774  ],\n",
              "       [-0.061551 , -0.6522   ],\n",
              "       [-0.87044  , -0.65841  ],\n",
              "       [ 0.97667  ,  0.98859  ],\n",
              "       [ 0.93377  ,  0.20397  ],\n",
              "       [ 0.32986  , -0.49288  ],\n",
              "       [ 0.74076  ,  0.7469   ],\n",
              "       [-0.98015  ,  0.026801 ],\n",
              "       [-0.72598  ,  0.4653   ],\n",
              "       [ 0.63751  , -0.15555  ],\n",
              "       [-0.13967  ,  0.92274  ],\n",
              "       [ 0.78064  , -0.85588  ],\n",
              "       [ 0.46982  ,  0.10682  ],\n",
              "       [ 0.37465  , -0.41603  ],\n",
              "       [-0.30778  ,  0.71593  ],\n",
              "       [-0.66793  , -0.32849  ],\n",
              "       [-0.68877  ,  0.36041  ],\n",
              "       [-0.61777  , -0.89311  ],\n",
              "       [-0.1551   , -0.28669  ],\n",
              "       [ 0.71195  , -0.0033908],\n",
              "       [-0.0195   , -0.13112  ],\n",
              "       [ 0.63187  ,  0.12492  ],\n",
              "       [-0.07846  ,  0.23324  ],\n",
              "       [-0.085291 , -0.77332  ],\n",
              "       [-0.098622 ,  0.7965   ],\n",
              "       [-0.17556  ,  0.5091   ],\n",
              "       [ 0.80322  ,  0.58225  ],\n",
              "       [-0.98883  ,  0.6299   ],\n",
              "       [-0.40519  ,  0.34001  ],\n",
              "       [-0.90168  , -0.59825  ],\n",
              "       [ 0.38636  , -0.45382  ],\n",
              "       [ 0.30021  ,  0.25247  ],\n",
              "       [ 0.96598  ,  0.073703 ],\n",
              "       [ 0.10535  , -0.88099  ],\n",
              "       [-0.19985  , -0.82208  ],\n",
              "       [-0.60242  , -0.45738  ],\n",
              "       [ 0.2504   , -0.18186  ],\n",
              "       [ 0.46673  , -0.051917 ],\n",
              "       [-0.24823  ,  0.81798  ],\n",
              "       [-0.98025  ,  0.19249  ],\n",
              "       [-0.16028  , -0.34209  ],\n",
              "       [ 0.50734  , -0.043611 ],\n",
              "       [ 0.58774  ,  0.19434  ],\n",
              "       [ 0.83991  , -0.6771   ],\n",
              "       [ 0.68944  ,  0.65895  ],\n",
              "       [-0.26449  ,  0.91224  ],\n",
              "       [ 0.2416   ,  0.1911   ],\n",
              "       [ 0.46255  , -0.9425   ],\n",
              "       [-0.61221  ,  0.62424  ],\n",
              "       [ 0.80962  ,  0.22023  ],\n",
              "       [ 0.13841  ,  0.40299  ],\n",
              "       [ 0.26358  , -0.81561  ],\n",
              "       [-0.53117  , -0.15022  ],\n",
              "       [ 0.097564 , -0.24885  ],\n",
              "       [ 0.86317  , -0.66769  ],\n",
              "       [-0.32961  ,  0.6663   ],\n",
              "       [ 0.31106  ,  0.67728  ],\n",
              "       [-0.21619  , -0.096772 ],\n",
              "       [ 0.25463  ,  0.9132   ],\n",
              "       [ 0.39816  , -0.70569  ],\n",
              "       [-0.20563  ,  0.73987  ],\n",
              "       [-0.17274  ,  0.53887  ],\n",
              "       [ 0.31043  , -0.11168  ],\n",
              "       [ 0.67517  ,  0.24124  ],\n",
              "       [-0.25678  ,  0.90338  ],\n",
              "       [-0.14949  ,  0.28002  ],\n",
              "       [ 0.18933  , -0.50534  ],\n",
              "       [ 0.13148  , -0.2946   ],\n",
              "       [ 0.43308  , -0.62428  ],\n",
              "       [ 0.022623 , -0.018711 ],\n",
              "       [ 0.5528   , -0.18145  ],\n",
              "       [-0.021309 , -0.072949 ],\n",
              "       [-0.62819  ,  0.22189  ],\n",
              "       [ 0.40127  , -0.85766  ],\n",
              "       [ 0.96542  , -0.37144  ],\n",
              "       [ 0.61328  ,  0.21677  ],\n",
              "       [ 0.40714  , -0.64996  ],\n",
              "       [-0.030073 ,  0.24205  ],\n",
              "       [-0.77077  , -0.50808  ],\n",
              "       [ 0.32971  ,  0.17472  ],\n",
              "       [-0.26925  ,  0.012107 ],\n",
              "       [-0.71991  , -0.070442 ],\n",
              "       [ 0.13355  ,  0.082838 ],\n",
              "       [ 0.64602  ,  0.88465  ],\n",
              "       [ 0.3479   , -0.31648  ],\n",
              "       [ 0.99889  , -0.19639  ],\n",
              "       [ 0.92327  , -0.38462  ],\n",
              "       [-0.88228  , -0.17686  ],\n",
              "       [-0.27938  , -0.42812  ],\n",
              "       [ 0.097026 , -0.21174  ],\n",
              "       [-0.47646  ,  0.006029 ],\n",
              "       [ 0.19469  ,  0.44396  ],\n",
              "       [-0.90144  , -0.38758  ],\n",
              "       [ 0.14211  , -0.77567  ],\n",
              "       [ 0.40171  , -0.11342  ],\n",
              "       [ 0.92458  , -0.066475 ],\n",
              "       [ 0.50104  , -0.97066  ],\n",
              "       [ 0.47999  ,  0.3281   ],\n",
              "       [-0.13625  ,  0.44812  ],\n",
              "       [ 0.26853  , -0.43673  ],\n",
              "       [ 0.60605  , -0.47636  ],\n",
              "       [-0.83224  ,  0.41694  ],\n",
              "       [ 0.89093  ,  0.56772  ]])"
            ]
          },
          "metadata": {},
          "execution_count": 22
        }
      ]
    },
    {
      "cell_type": "markdown",
      "source": [
        "# PCA\n",
        "Principal Component Analysis (PCA) is a dimensionality reduction technique commonly used in machine learning and data analysis. Its primary goal is to reduce the number of features in a dataset while retaining as much of the original information as possible. Here's an overview of PCA\n",
        "\n",
        "Objective:\n",
        "\n",
        "PCA aims to transform the original features of a dataset into a new set of uncorrelated features called principal components.\n",
        "The first principal component accounts for the maximum variance in the data, the second principal component (uncorrelated with the first) accounts for the next highest variance, and so on.\n",
        "By selecting a subset of principal components, you can represent the data in a lower-dimensional space.\n",
        "\n",
        "Mathematical Basis:\n",
        "\n",
        "PCA is based on linear algebra and involves finding the eigenvectors and eigenvalues of the covariance matrix of the original data.\n",
        "The eigenvectors represent the directions of maximum variance, and the eigenvalues indicate the magnitude of the variance in those directions.\n",
        "\n",
        "Steps in PCA:\n",
        "\n",
        "Standardization: Standardize the features to have a mean of 0 and a standard deviation of 1.\n",
        "\n",
        "Covariance Matrix: Calculate the covariance matrix of the standardized features.\n",
        "\n",
        "Eigendecomposition: Find the eigenvectors and eigenvalues of the covariance matrix.\n",
        "\n",
        "Selection of Principal Components:\n",
        "Sort the eigenvalues in descending order and choose the top k eigenvectors to form the principal components, where k is the desired dimensionality.\n",
        "\n",
        "Applications:\n",
        "\n",
        "Dimensionality Reduction: PCA is widely used to reduce the number of features in datasets with high dimensionality, especially in cases where there is multicollinearity among features.\n",
        "Visualization: PCA is useful for visualizing high-dimensional data in two or three dimensions.\n",
        "Noise Reduction: PCA can help in reducing the impact of noise and focusing on the most significant patterns in the data.\n",
        "\n",
        "# Considerations:\n",
        "\n",
        "PCA assumes that the principal components with the highest variance capture the most important information in the data.\n",
        "It is sensitive to the scale of the features, so standardization is often recommended.\n",
        "Interpretability may be a challenge as principal components are linear combinations of the original features."
      ],
      "metadata": {
        "id": "RavJ8ndTXHNx"
      }
    },
    {
      "cell_type": "code",
      "source": [
        "from sklearn.decomposition import PCA;\n",
        "pca=PCA(n_components=1);\n",
        "ds_reduced=pca.fit(ds_combine)"
      ],
      "metadata": {
        "id": "4nx_n_1hWwf1"
      },
      "execution_count": null,
      "outputs": []
    },
    {
      "cell_type": "code",
      "source": [
        "ds_reduced=pca.transform(ds_combine);\n",
        "ds_reduced"
      ],
      "metadata": {
        "colab": {
          "base_uri": "https://localhost:8080/"
        },
        "id": "Dm2_MVruW0fB",
        "outputId": "bc05e260-911d-494f-e43c-276cd8bc2444"
      },
      "execution_count": null,
      "outputs": [
        {
          "output_type": "execute_result",
          "data": {
            "text/plain": [
              "array([[ 0.51981674],\n",
              "       [-0.09843204],\n",
              "       [-0.01921158],\n",
              "       [-0.68643757],\n",
              "       [-0.61187662],\n",
              "       [ 0.22865798],\n",
              "       [ 1.17601471],\n",
              "       [-0.48161798],\n",
              "       [ 0.29809894],\n",
              "       [-0.35553462],\n",
              "       [-0.5455648 ],\n",
              "       [-0.46658188],\n",
              "       [-0.20973167],\n",
              "       [ 0.6503107 ],\n",
              "       [ 0.31255162],\n",
              "       [-0.4831179 ],\n",
              "       [-1.02781105],\n",
              "       [ 0.33175274],\n",
              "       [-0.99207859],\n",
              "       [ 0.83193206],\n",
              "       [ 0.20270997],\n",
              "       [-0.19514635],\n",
              "       [ 0.60494948],\n",
              "       [ 0.96066721],\n",
              "       [ 1.00301434],\n",
              "       [ 1.02560211],\n",
              "       [ 0.12244282],\n",
              "       [ 0.45629104],\n",
              "       [ 0.63816129],\n",
              "       [ 0.75166911],\n",
              "       [-0.25492212],\n",
              "       [ 0.04499973],\n",
              "       [-0.34576193],\n",
              "       [ 0.32676617],\n",
              "       [ 0.16600323],\n",
              "       [-0.358132  ],\n",
              "       [-0.14320146],\n",
              "       [ 0.58514152],\n",
              "       [ 0.11060249],\n",
              "       [-0.3914625 ],\n",
              "       [ 0.7425379 ],\n",
              "       [ 0.01966497],\n",
              "       [ 0.40876607],\n",
              "       [-0.81260265],\n",
              "       [-0.15001863],\n",
              "       [-0.2148987 ],\n",
              "       [ 0.31879892],\n",
              "       [ 0.34298471],\n",
              "       [ 0.715511  ],\n",
              "       [ 0.61113887],\n",
              "       [-0.60840665],\n",
              "       [ 0.07604887],\n",
              "       [-0.13834301],\n",
              "       [ 0.34401269],\n",
              "       [-0.36942296],\n",
              "       [ 0.4535818 ],\n",
              "       [-0.89671008],\n",
              "       [-0.93030739],\n",
              "       [ 0.0022767 ],\n",
              "       [ 0.17759269],\n",
              "       [-1.03050607],\n",
              "       [-0.88638181],\n",
              "       [-0.42469018],\n",
              "       [-0.4303489 ],\n",
              "       [-0.55719338],\n",
              "       [ 0.27202213],\n",
              "       [ 0.57587391],\n",
              "       [ 0.54911911],\n",
              "       [ 0.17485379],\n",
              "       [-0.65928899],\n",
              "       [ 0.40044455],\n",
              "       [-0.58233041],\n",
              "       [-0.154926  ],\n",
              "       [ 0.05123271],\n",
              "       [-0.14862634],\n",
              "       [ 0.15704211],\n",
              "       [ 0.3662769 ],\n",
              "       [-0.28893748],\n",
              "       [-0.09405472],\n",
              "       [-0.75465106],\n",
              "       [-0.79288224],\n",
              "       [ 0.21425625],\n",
              "       [-0.30372702],\n",
              "       [ 0.50835203],\n",
              "       [-0.98931767],\n",
              "       [ 0.79387498],\n",
              "       [ 0.33033569],\n",
              "       [-0.36491325],\n",
              "       [-0.02888012],\n",
              "       [ 0.54288712],\n",
              "       [ 0.77810326],\n",
              "       [-0.99294376],\n",
              "       [ 0.30687664],\n",
              "       [ 0.56670278],\n",
              "       [-0.45445092],\n",
              "       [ 0.75292354],\n",
              "       [-0.11444055],\n",
              "       [ 0.62666126],\n",
              "       [-0.42274239],\n",
              "       [-0.69224749],\n",
              "       [-0.41150203],\n",
              "       [-0.30105325],\n",
              "       [ 0.9973068 ],\n",
              "       [ 0.93632513],\n",
              "       [-0.56147831],\n",
              "       [ 0.57749162],\n",
              "       [-0.96879721],\n",
              "       [-0.30402762],\n",
              "       [-0.42241465],\n",
              "       [ 0.65059145],\n",
              "       [ 0.57041413],\n",
              "       [ 0.86082111],\n",
              "       [ 0.30199015],\n",
              "       [ 0.11546904],\n",
              "       [-0.56999324],\n",
              "       [ 0.0520776 ],\n",
              "       [-0.44586045],\n",
              "       [ 0.24973948],\n",
              "       [-0.14030857],\n",
              "       [ 0.4900532 ],\n",
              "       [ 0.44761404],\n",
              "       [-0.42329773],\n",
              "       [ 1.24275242],\n",
              "       [ 0.59211632],\n",
              "       [ 0.67906535],\n",
              "       [-0.44805831],\n",
              "       [-0.09076986],\n",
              "       [-0.77314745],\n",
              "       [-0.35794404],\n",
              "       [-0.05420262],\n",
              "       [ 0.45944632],\n",
              "       [-0.21599846],\n",
              "       [-0.36368902],\n",
              "       [ 0.6360335 ],\n",
              "       [ 1.06263782],\n",
              "       [ 0.09841716],\n",
              "       [-0.3977481 ],\n",
              "       [-0.37796154],\n",
              "       [-0.95288578],\n",
              "       [-0.28850869],\n",
              "       [ 0.68809435],\n",
              "       [-0.06105846],\n",
              "       [-0.71050864],\n",
              "       [ 0.89432718],\n",
              "       [-0.57172404],\n",
              "       [ 0.11722633],\n",
              "       [-0.47764923],\n",
              "       [ 0.51489439],\n",
              "       [-0.10188548],\n",
              "       [-0.9705617 ],\n",
              "       [ 0.65111649],\n",
              "       [ 0.06652311],\n",
              "       [ 0.24640332],\n",
              "       [ 0.21128685],\n",
              "       [-0.55807748],\n",
              "       [ 0.56611936],\n",
              "       [ 0.45674361],\n",
              "       [-0.24354627],\n",
              "       [-0.43986234],\n",
              "       [ 0.67751859],\n",
              "       [ 0.33345104],\n",
              "       [-0.2872301 ],\n",
              "       [-0.15107555],\n",
              "       [-0.55812192],\n",
              "       [ 0.0576177 ],\n",
              "       [-0.49380916],\n",
              "       [ 0.07664497],\n",
              "       [ 0.7505933 ],\n",
              "       [-0.62077358],\n",
              "       [-0.9479052 ],\n",
              "       [-0.39260674],\n",
              "       [-0.54438871],\n",
              "       [ 0.20873007],\n",
              "       [ 0.59423418],\n",
              "       [-0.14850047],\n",
              "       [ 0.33804761],\n",
              "       [ 0.71980011],\n",
              "       [-0.00436428],\n",
              "       [-0.15972807],\n",
              "       [-0.35862827],\n",
              "       [-0.90974656],\n",
              "       [-0.91434963],\n",
              "       [ 0.82715238],\n",
              "       [ 0.17402245],\n",
              "       [-0.08677909],\n",
              "       [ 0.52612602],\n",
              "       [ 0.08162433],\n",
              "       [ 0.76179484],\n",
              "       [-0.35026542],\n",
              "       [-0.32813779],\n",
              "       [-0.79028603],\n",
              "       [-0.75697726],\n",
              "       [-0.22624835],\n",
              "       [ 0.38746898],\n",
              "       [-0.33301753],\n",
              "       [-0.65887676],\n",
              "       [ 1.01495997],\n",
              "       [-0.50964362]])"
            ]
          },
          "metadata": {},
          "execution_count": 24
        }
      ]
    },
    {
      "cell_type": "markdown",
      "source": [
        "# Correlation Heatmap of Principal Components\n",
        "\n",
        "The importance of a correlation heatmap of principal components lies in its ability to provide insights into the relationships between different principal components.\n",
        "\n",
        "Identifying Relationships:\n",
        "\n",
        "The heatmap allows you to quickly identify patterns of correlation between different pairs of principal components. High positive or negative correlations indicate that those components are related in some way.\n",
        "Detecting Multicollinearity:\n",
        "\n",
        "Multicollinearity occurs when two or more variables are highly correlated. In the context of PCA, if two principal components are strongly correlated, it implies redundancy in the information they carry. Detecting and understanding multicollinearity can be essential for interpreting the results of PCA.\n",
        "Selecting Independent Components:\n",
        "\n",
        "Independence between principal components is desirable. A correlation heatmap helps assess the degree of independence, allowing you to identify components that might be highly dependent on each other.\n",
        "Dimensionality Reduction Insights:\n",
        "\n",
        "In PCA, the goal is often to reduce the dimensionality of the data. Examining the correlation heatmap can guide decisions on how many principal components to retain. Components with low intercorrelations are likely to capture different aspects of the data.\n",
        "Assessing Model Trustworthiness:\n",
        "\n",
        "If you are using PCA as part of a larger modeling process, understanding the relationships between principal components can help assess the trustworthiness of the model. Strong correlations may suggest that certain components are not contributing unique information.\n",
        "\n",
        "Visualization of Component Relationships:\n",
        "\n",
        "A heatmap provides a visually intuitive representation of the relationships between principal components. Clusters of high or low correlations can be easily spotted, providing a quick overview of the interplay between different components.\n",
        "\n",
        "Troubleshooting Issues:\n",
        "\n",
        "In some cases, unexpected correlations may signal issues in the data or preprocessing steps. A correlation heatmap can be a diagnostic tool for identifying potential problems.\n",
        "\n",
        "Interpreting Results:\n",
        "\n",
        "Understanding the relationships between principal components is crucial for interpreting the results of PCA. It helps in assigning meaning to each component and making informed decisions about which components are most relevant to the underlying structure of the data."
      ],
      "metadata": {
        "id": "XjNSqHlCirVb"
      }
    },
    {
      "cell_type": "code",
      "source": [
        "import numpy as np\n",
        "import seaborn as sns\n",
        "import matplotlib.pyplot as plt\n",
        "from sklearn.decomposition import PCA\n",
        "from sklearn.datasets import load_iris\n",
        "\n",
        "# Load Iris dataset as an example\n",
        "iris = load_iris()\n",
        "X = iris.data\n",
        "y = iris.target\n",
        "\n",
        "# Apply PCA\n",
        "pca = PCA(n_components=4)  # Choose the number of components you want\n",
        "principal_components = pca.fit_transform(X)\n",
        "\n",
        "# Create a DataFrame from the principal components\n",
        "pc_df = pd.DataFrame(data=principal_components, columns=['PC1', 'PC2', 'PC3', 'PC4'])\n",
        "\n",
        "# Calculate the correlation matrix\n",
        "correlation_matrix = pc_df.corr()\n",
        "\n",
        "# Create a heatmap using Seaborn\n",
        "plt.figure(figsize=(8, 6))\n",
        "sns.heatmap(correlation_matrix, annot=True, cmap='coolwarm', fmt=\".2f\", linewidths=0.5)\n",
        "plt.title('Correlation Heatmap of Principal Components')\n",
        "plt.show()\n"
      ],
      "metadata": {
        "colab": {
          "base_uri": "https://localhost:8080/",
          "height": 545
        },
        "id": "vtWWRcpxhj2U",
        "outputId": "31df87b4-2734-451e-9e95-eed89cefcc97"
      },
      "execution_count": null,
      "outputs": [
        {
          "output_type": "display_data",
          "data": {
            "text/plain": [
              "<Figure size 800x600 with 2 Axes>"
            ],
            "image/png": "[encoded data removed]"
          },
          "metadata": {}
        }
      ]
    },
    {
      "cell_type": "markdown",
      "source": [
        "# Confusion Matrix\n",
        "\n",
        "The confusion matrix is a fundamental tool in evaluating the performance of a classification model. It provides a detailed breakdown of the model's predictions compared to the actual outcomes. Here are several reasons why the confusion matrix is important in assessing classification models:\n",
        "\n",
        "Accuracy Assessment:\n",
        "\n",
        "The confusion matrix is used to calculate key performance metrics such as accuracy, which is the proportion of correctly classified instances. Accuracy provides a high-level overview of how well the model is performing.\n",
        "\n",
        "Precision and Recall:\n",
        "\n",
        "Precision and recall are crucial metrics, especially in imbalanced datasets. Precision is the ratio of correctly predicted positive observations to the total predicted positives, while recall (sensitivity) is the ratio of correctly predicted positive observations to the all observations in the actual class.\n",
        "\n",
        "F1-Score:\n",
        "\n",
        "The F1-score is the harmonic mean of precision and recall. It provides a balance between precision and recall, offering a single metric that summarizes a classifier's performance.\n",
        "\n",
        "Specificity and False Positive Rate:\n",
        "\n",
        "Specificity is the ratio of correctly predicted negative observations to the total actual negatives. The false positive rate is the ratio of incorrectly predicted positives to the total actual negatives. These metrics are important, especially in situations where false positives are costly.\n",
        "\n",
        "Understanding Error Types:\n",
        "\n",
        "The confusion matrix breaks down predictions into four categories: true positives (correctly predicted positives), true negatives (correctly predicted negatives), false positives (incorrectly predicted positives), and false negatives (incorrectly predicted negatives). Understanding these error types is crucial for fine-tuning models and making informed decisions.\n",
        "\n",
        "Threshold Adjustment:\n",
        "\n",
        "Some classification models provide probability scores instead of discrete predictions. The confusion matrix allows you to adjust the decision threshold and observe how it impacts the trade-off between false positives and false negatives.\n",
        "\n",
        "Model Comparison:\n",
        "\n",
        "The confusion matrix enables the comparison of multiple models. You can compare the performance of different classifiers or different configurations of the same model.\n",
        "\n",
        "Diagnostic Information:\n",
        "\n",
        "The confusion matrix is a diagnostic tool that helps identify areas of improvement for a model. For example, if the model consistently misclassifies a certain class, it may indicate issues with feature representation or model complexity.\n",
        "\n",
        "Risk Assessment:\n",
        "\n",
        "In applications where different types of errors have different consequences (e.g., medical diagnoses), the confusion matrix helps assess the risks associated with false positives and false negatives.\n",
        "\n",
        "Data Imbalance Detection:\n",
        "\n",
        "The confusion matrix is particularly useful in detecting issues related to class imbalance. In imbalanced datasets, accuracy alone may not provide an accurate representation of model performance."
      ],
      "metadata": {
        "id": "KZSr2oGBilJe"
      }
    },
    {
      "cell_type": "code",
      "source": [
        "import numpy as np\n",
        "from sklearn.metrics import confusion_matrix\n",
        "import seaborn as sns\n",
        "import matplotlib.pyplot as plt\n",
        "\n",
        "# Assuming these are your predicted labels\n",
        "predicted_labels = np.array([0, 1, 1, 0, 0, 1, 1, 0, 1, 0, 1, 1, 0, 0, 1, 0, 1, 0, 1, 1])\n",
        "\n",
        "# Assuming these are the true labels corresponding to your data\n",
        "true_labels = np.array([1, 0, 1, 0, 0, 1, 1, 0, 1, 0, 1, 1, 0, 0, 1, 0, 1, 0, 1, 1])\n",
        "\n",
        "# Create a confusion matrix\n",
        "conf_matrix = confusion_matrix(true_labels, predicted_labels)\n",
        "\n",
        "# Display the confusion matrix using a heatmap\n",
        "plt.figure(figsize=(4, 4))\n",
        "sns.heatmap(conf_matrix, annot=True, fmt='d', cmap='Blues', cbar=False,\n",
        "            xticklabels=['Predicted 0', 'Predicted 1'],\n",
        "            yticklabels=['True 0', 'True 1'])\n",
        "plt.xlabel('Predicted')\n",
        "plt.ylabel('True')\n",
        "plt.title('Confusion Matrix')\n",
        "plt.show()\n"
      ],
      "metadata": {
        "colab": {
          "base_uri": "https://localhost:8080/",
          "height": 410
        },
        "id": "ejdM_AHhiecW",
        "outputId": "7ea7c5ea-74d8-4274-a479-05213a57d8e2"
      },
      "execution_count": null,
      "outputs": [
        {
          "output_type": "display_data",
          "data": {
            "text/plain": [
              "<Figure size 400x400 with 1 Axes>"
            ],
            "image/png": "[encoded data removed]"
          },
          "metadata": {}
        }
      ]
    }
  ]
}